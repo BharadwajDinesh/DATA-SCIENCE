{
 "cells": [
  {
   "cell_type": "markdown",
   "id": "73e30296-3864-4404-be78-2b62d0709031",
   "metadata": {},
   "source": [
    "# Linear Recression on stock data \n",
    "## Features Open and Volume"
   ]
  },
  {
   "cell_type": "code",
   "execution_count": 1,
   "id": "f0b6460f-090c-4dbc-a7d9-2a0715be94e4",
   "metadata": {},
   "outputs": [],
   "source": [
    "import yfinance as yf"
   ]
  },
  {
   "cell_type": "code",
   "execution_count": 44,
   "id": "354fea80-72a7-418c-a719-847b66d16ad6",
   "metadata": {},
   "outputs": [
    {
     "name": "stdout",
     "output_type": "stream",
     "text": [
      "[*********************100%***********************]  1 of 1 completed\n"
     ]
    }
   ],
   "source": [
    "BEL = yf.download('BEL.NS', '2023-01-01', '2024-06-07')"
   ]
  },
  {
   "cell_type": "code",
   "execution_count": 45,
   "id": "db746e0f-2810-4674-9d65-56bf9093bba3",
   "metadata": {},
   "outputs": [
    {
     "data": {
      "text/html": [
       "<div>\n",
       "<style scoped>\n",
       "    .dataframe tbody tr th:only-of-type {\n",
       "        vertical-align: middle;\n",
       "    }\n",
       "\n",
       "    .dataframe tbody tr th {\n",
       "        vertical-align: top;\n",
       "    }\n",
       "\n",
       "    .dataframe thead th {\n",
       "        text-align: right;\n",
       "    }\n",
       "</style>\n",
       "<table border=\"1\" class=\"dataframe\">\n",
       "  <thead>\n",
       "    <tr style=\"text-align: right;\">\n",
       "      <th></th>\n",
       "      <th>Open</th>\n",
       "      <th>High</th>\n",
       "      <th>Low</th>\n",
       "      <th>Close</th>\n",
       "      <th>Adj Close</th>\n",
       "      <th>Volume</th>\n",
       "    </tr>\n",
       "    <tr>\n",
       "      <th>Date</th>\n",
       "      <th></th>\n",
       "      <th></th>\n",
       "      <th></th>\n",
       "      <th></th>\n",
       "      <th></th>\n",
       "      <th></th>\n",
       "    </tr>\n",
       "  </thead>\n",
       "  <tbody>\n",
       "    <tr>\n",
       "      <th>2024-05-31</th>\n",
       "      <td>294.200012</td>\n",
       "      <td>297.200012</td>\n",
       "      <td>286.299988</td>\n",
       "      <td>295.950012</td>\n",
       "      <td>295.950012</td>\n",
       "      <td>51397345</td>\n",
       "    </tr>\n",
       "    <tr>\n",
       "      <th>2024-06-03</th>\n",
       "      <td>323.000000</td>\n",
       "      <td>323.000000</td>\n",
       "      <td>309.299988</td>\n",
       "      <td>318.649994</td>\n",
       "      <td>318.649994</td>\n",
       "      <td>67256146</td>\n",
       "    </tr>\n",
       "    <tr>\n",
       "      <th>2024-06-04</th>\n",
       "      <td>312.000000</td>\n",
       "      <td>312.000000</td>\n",
       "      <td>230.050003</td>\n",
       "      <td>255.550003</td>\n",
       "      <td>255.550003</td>\n",
       "      <td>268052657</td>\n",
       "    </tr>\n",
       "    <tr>\n",
       "      <th>2024-06-05</th>\n",
       "      <td>264.500000</td>\n",
       "      <td>264.500000</td>\n",
       "      <td>230.000000</td>\n",
       "      <td>260.350006</td>\n",
       "      <td>260.350006</td>\n",
       "      <td>193487058</td>\n",
       "    </tr>\n",
       "    <tr>\n",
       "      <th>2024-06-06</th>\n",
       "      <td>267.000000</td>\n",
       "      <td>281.500000</td>\n",
       "      <td>267.000000</td>\n",
       "      <td>270.850006</td>\n",
       "      <td>270.850006</td>\n",
       "      <td>84661924</td>\n",
       "    </tr>\n",
       "  </tbody>\n",
       "</table>\n",
       "</div>"
      ],
      "text/plain": [
       "                  Open        High         Low       Close   Adj Close  \\\n",
       "Date                                                                     \n",
       "2024-05-31  294.200012  297.200012  286.299988  295.950012  295.950012   \n",
       "2024-06-03  323.000000  323.000000  309.299988  318.649994  318.649994   \n",
       "2024-06-04  312.000000  312.000000  230.050003  255.550003  255.550003   \n",
       "2024-06-05  264.500000  264.500000  230.000000  260.350006  260.350006   \n",
       "2024-06-06  267.000000  281.500000  267.000000  270.850006  270.850006   \n",
       "\n",
       "               Volume  \n",
       "Date                   \n",
       "2024-05-31   51397345  \n",
       "2024-06-03   67256146  \n",
       "2024-06-04  268052657  \n",
       "2024-06-05  193487058  \n",
       "2024-06-06   84661924  "
      ]
     },
     "execution_count": 45,
     "metadata": {},
     "output_type": "execute_result"
    }
   ],
   "source": [
    "BEL.tail()"
   ]
  },
  {
   "cell_type": "code",
   "execution_count": 46,
   "id": "9d3a1376-a98d-4686-b80a-fb3821498608",
   "metadata": {},
   "outputs": [],
   "source": [
    "features = BEL[['Open','Volume']]"
   ]
  },
  {
   "cell_type": "code",
   "execution_count": 47,
   "id": "dbfa1de6-9df0-4e12-93ca-e72d3e83c88c",
   "metadata": {},
   "outputs": [
    {
     "data": {
      "text/html": [
       "<div>\n",
       "<style scoped>\n",
       "    .dataframe tbody tr th:only-of-type {\n",
       "        vertical-align: middle;\n",
       "    }\n",
       "\n",
       "    .dataframe tbody tr th {\n",
       "        vertical-align: top;\n",
       "    }\n",
       "\n",
       "    .dataframe thead th {\n",
       "        text-align: right;\n",
       "    }\n",
       "</style>\n",
       "<table border=\"1\" class=\"dataframe\">\n",
       "  <thead>\n",
       "    <tr style=\"text-align: right;\">\n",
       "      <th></th>\n",
       "      <th>Open</th>\n",
       "      <th>Volume</th>\n",
       "    </tr>\n",
       "    <tr>\n",
       "      <th>Date</th>\n",
       "      <th></th>\n",
       "      <th></th>\n",
       "    </tr>\n",
       "  </thead>\n",
       "  <tbody>\n",
       "    <tr>\n",
       "      <th>2023-01-02</th>\n",
       "      <td>100.400002</td>\n",
       "      <td>6973552</td>\n",
       "    </tr>\n",
       "    <tr>\n",
       "      <th>2023-01-03</th>\n",
       "      <td>100.300003</td>\n",
       "      <td>8833881</td>\n",
       "    </tr>\n",
       "    <tr>\n",
       "      <th>2023-01-04</th>\n",
       "      <td>100.699997</td>\n",
       "      <td>8927128</td>\n",
       "    </tr>\n",
       "    <tr>\n",
       "      <th>2023-01-05</th>\n",
       "      <td>99.000000</td>\n",
       "      <td>10448282</td>\n",
       "    </tr>\n",
       "    <tr>\n",
       "      <th>2023-01-06</th>\n",
       "      <td>99.800003</td>\n",
       "      <td>7215940</td>\n",
       "    </tr>\n",
       "    <tr>\n",
       "      <th>...</th>\n",
       "      <td>...</td>\n",
       "      <td>...</td>\n",
       "    </tr>\n",
       "    <tr>\n",
       "      <th>2024-05-31</th>\n",
       "      <td>294.200012</td>\n",
       "      <td>51397345</td>\n",
       "    </tr>\n",
       "    <tr>\n",
       "      <th>2024-06-03</th>\n",
       "      <td>323.000000</td>\n",
       "      <td>67256146</td>\n",
       "    </tr>\n",
       "    <tr>\n",
       "      <th>2024-06-04</th>\n",
       "      <td>312.000000</td>\n",
       "      <td>268052657</td>\n",
       "    </tr>\n",
       "    <tr>\n",
       "      <th>2024-06-05</th>\n",
       "      <td>264.500000</td>\n",
       "      <td>193487058</td>\n",
       "    </tr>\n",
       "    <tr>\n",
       "      <th>2024-06-06</th>\n",
       "      <td>267.000000</td>\n",
       "      <td>84661924</td>\n",
       "    </tr>\n",
       "  </tbody>\n",
       "</table>\n",
       "<p>350 rows × 2 columns</p>\n",
       "</div>"
      ],
      "text/plain": [
       "                  Open     Volume\n",
       "Date                             \n",
       "2023-01-02  100.400002    6973552\n",
       "2023-01-03  100.300003    8833881\n",
       "2023-01-04  100.699997    8927128\n",
       "2023-01-05   99.000000   10448282\n",
       "2023-01-06   99.800003    7215940\n",
       "...                ...        ...\n",
       "2024-05-31  294.200012   51397345\n",
       "2024-06-03  323.000000   67256146\n",
       "2024-06-04  312.000000  268052657\n",
       "2024-06-05  264.500000  193487058\n",
       "2024-06-06  267.000000   84661924\n",
       "\n",
       "[350 rows x 2 columns]"
      ]
     },
     "execution_count": 47,
     "metadata": {},
     "output_type": "execute_result"
    }
   ],
   "source": [
    "features"
   ]
  },
  {
   "cell_type": "code",
   "execution_count": 48,
   "id": "4d150de7-60e1-4fd1-b788-42e33e200ec3",
   "metadata": {},
   "outputs": [
    {
     "data": {
      "text/plain": [
       "Date\n",
       "2023-01-02    100.250000\n",
       "2023-01-03    100.349998\n",
       "2023-01-04     98.750000\n",
       "2023-01-05     99.949997\n",
       "2023-01-06     98.949997\n",
       "                 ...    \n",
       "2024-05-31    295.950012\n",
       "2024-06-03    318.649994\n",
       "2024-06-04    255.550003\n",
       "2024-06-05    260.350006\n",
       "2024-06-06    270.850006\n",
       "Name: Close, Length: 350, dtype: float64"
      ]
     },
     "execution_count": 48,
     "metadata": {},
     "output_type": "execute_result"
    }
   ],
   "source": [
    "y = BEL['Close']\n",
    "y"
   ]
  },
  {
   "cell_type": "code",
   "execution_count": 60,
   "id": "ff82b5e4-3f39-4d44-bacc-1d19d81b5965",
   "metadata": {},
   "outputs": [],
   "source": [
    "from sklearn.model_selection import train_test_split\n",
    "X_train, X_test, y_train, y_test = train_test_split(features,y, train_size=0.7, random_state=0, shuffle=False)"
   ]
  },
  {
   "cell_type": "code",
   "execution_count": 61,
   "id": "85c1cefb-4864-4faa-b803-f055921e1915",
   "metadata": {},
   "outputs": [
    {
     "data": {
      "text/plain": [
       "244"
      ]
     },
     "execution_count": 61,
     "metadata": {},
     "output_type": "execute_result"
    }
   ],
   "source": [
    "len(y_train)"
   ]
  },
  {
   "cell_type": "code",
   "execution_count": 62,
   "id": "2e568f85-c6a3-4204-97f1-f8abb369d3ed",
   "metadata": {},
   "outputs": [
    {
     "data": {
      "text/plain": [
       "LinearRegression()"
      ]
     },
     "execution_count": 62,
     "metadata": {},
     "output_type": "execute_result"
    }
   ],
   "source": [
    "from sklearn.linear_model import LinearRegression\n",
    "\n",
    "model = LinearRegression()\n",
    "model"
   ]
  },
  {
   "cell_type": "code",
   "execution_count": 63,
   "id": "626d83b0-d5f2-4abf-a165-2b500f45b9bf",
   "metadata": {},
   "outputs": [
    {
     "data": {
      "text/plain": [
       "LinearRegression()"
      ]
     },
     "execution_count": 63,
     "metadata": {},
     "output_type": "execute_result"
    }
   ],
   "source": [
    "model.fit(X_train, y_train)"
   ]
  },
  {
   "cell_type": "code",
   "execution_count": 64,
   "id": "c7f88721-559f-44a3-8bc4-7aceb4a0586e",
   "metadata": {},
   "outputs": [
    {
     "data": {
      "text/plain": [
       "array([9.97496047e-01, 1.18942819e-08])"
      ]
     },
     "execution_count": 64,
     "metadata": {},
     "output_type": "execute_result"
    }
   ],
   "source": [
    "model.coef_"
   ]
  },
  {
   "cell_type": "code",
   "execution_count": 65,
   "id": "13fba291-f9f0-4d6d-b810-1edc62ab6c43",
   "metadata": {},
   "outputs": [
    {
     "data": {
      "text/plain": [
       "0.04093773647697674"
      ]
     },
     "execution_count": 65,
     "metadata": {},
     "output_type": "execute_result"
    }
   ],
   "source": [
    "model.intercept_"
   ]
  },
  {
   "cell_type": "code",
   "execution_count": 66,
   "id": "3537786e-df69-4f22-a31f-cbbe968c78df",
   "metadata": {},
   "outputs": [
    {
     "data": {
      "text/plain": [
       "array([182.76245735, 184.5924118 , 185.84628461, 182.15723122,\n",
       "       182.3861182 , 187.53290161, 186.45978093, 184.61533906,\n",
       "       184.08270189, 186.70285176, 185.03213805, 184.77019788,\n",
       "       188.66385276, 186.06893021, 185.52142706, 189.83046843,\n",
       "       195.11876742, 186.54855714, 190.46309195, 189.90916346,\n",
       "       191.80869974, 188.05226809, 187.60202514, 184.90729767,\n",
       "       186.85673827, 182.12854012, 183.89863411, 182.13077509,\n",
       "       185.32719937, 181.07070667, 174.51943744, 177.12602557,\n",
       "       182.78891075, 188.92265234, 189.81674813, 188.87928221,\n",
       "       191.07449465, 189.6963389 , 196.75551368, 205.49730141,\n",
       "       203.42473473, 206.18845328, 205.26267073, 205.62927177,\n",
       "       207.87788144, 210.80953951, 211.62267326, 211.45489663,\n",
       "       216.22015515, 210.92556773, 204.12492703, 188.9795037 ,\n",
       "       197.35428307, 189.8387459 , 189.89607771, 186.66605773,\n",
       "       190.07845832, 196.42145797, 196.85362584, 199.9899547 ,\n",
       "       200.24615409, 205.07286537, 214.37227425, 221.75267493,\n",
       "       223.19872009, 220.14090759, 225.2215062 , 224.62355762,\n",
       "       228.91022208, 231.4418286 , 230.07968114, 232.3454358 ,\n",
       "       235.27252059, 228.34251076, 235.65873865, 233.93279093,\n",
       "       235.09906062, 236.04165872, 238.18726399, 239.82602289,\n",
       "       235.92189522, 234.38128388, 236.734979  , 234.93790109,\n",
       "       232.27300091, 226.89746867, 234.37278927, 227.59007016,\n",
       "       228.26004575, 225.50151548, 231.65358192, 234.86394274,\n",
       "       241.41556667, 283.84332004, 277.36788658, 286.46414889,\n",
       "       288.07638505, 301.62878066, 295.40367343, 285.10270871,\n",
       "       292.81599312, 294.11562139, 323.03212442, 314.44799821,\n",
       "       266.18003173, 267.37937503])"
      ]
     },
     "execution_count": 66,
     "metadata": {},
     "output_type": "execute_result"
    }
   ],
   "source": [
    "pred = model.predict(X_test)\n",
    "pred"
   ]
  },
  {
   "cell_type": "code",
   "execution_count": 67,
   "id": "a40ac56d-921f-4d79-bdbe-489e8535955d",
   "metadata": {},
   "outputs": [],
   "source": [
    "Output = X_test.copy()"
   ]
  },
  {
   "cell_type": "code",
   "execution_count": 69,
   "id": "202f0252-5f4f-4175-a358-d13c2bcc1acb",
   "metadata": {},
   "outputs": [
    {
     "data": {
      "text/html": [
       "<div>\n",
       "<style scoped>\n",
       "    .dataframe tbody tr th:only-of-type {\n",
       "        vertical-align: middle;\n",
       "    }\n",
       "\n",
       "    .dataframe tbody tr th {\n",
       "        vertical-align: top;\n",
       "    }\n",
       "\n",
       "    .dataframe thead th {\n",
       "        text-align: right;\n",
       "    }\n",
       "</style>\n",
       "<table border=\"1\" class=\"dataframe\">\n",
       "  <thead>\n",
       "    <tr style=\"text-align: right;\">\n",
       "      <th></th>\n",
       "      <th>Open</th>\n",
       "      <th>Volume</th>\n",
       "      <th>Predicted Close price</th>\n",
       "      <th>Actual Close price</th>\n",
       "    </tr>\n",
       "    <tr>\n",
       "      <th>Date</th>\n",
       "      <th></th>\n",
       "      <th></th>\n",
       "      <th></th>\n",
       "      <th></th>\n",
       "    </tr>\n",
       "  </thead>\n",
       "  <tbody>\n",
       "    <tr>\n",
       "      <th>2023-12-29</th>\n",
       "      <td>182.949997</td>\n",
       "      <td>19305150</td>\n",
       "      <td>182.762457</td>\n",
       "      <td>184.199997</td>\n",
       "    </tr>\n",
       "    <tr>\n",
       "      <th>2024-01-01</th>\n",
       "      <td>184.800003</td>\n",
       "      <td>18008785</td>\n",
       "      <td>184.592412</td>\n",
       "      <td>184.949997</td>\n",
       "    </tr>\n",
       "    <tr>\n",
       "      <th>2024-01-02</th>\n",
       "      <td>186.000000</td>\n",
       "      <td>22790965</td>\n",
       "      <td>185.846285</td>\n",
       "      <td>182.149994</td>\n",
       "    </tr>\n",
       "    <tr>\n",
       "      <th>2024-01-03</th>\n",
       "      <td>182.350006</td>\n",
       "      <td>18738690</td>\n",
       "      <td>182.157231</td>\n",
       "      <td>182.350006</td>\n",
       "    </tr>\n",
       "    <tr>\n",
       "      <th>2024-01-04</th>\n",
       "      <td>182.500000</td>\n",
       "      <td>25403124</td>\n",
       "      <td>182.386118</td>\n",
       "      <td>186.899994</td>\n",
       "    </tr>\n",
       "    <tr>\n",
       "      <th>...</th>\n",
       "      <td>...</td>\n",
       "      <td>...</td>\n",
       "      <td>...</td>\n",
       "      <td>...</td>\n",
       "    </tr>\n",
       "    <tr>\n",
       "      <th>2024-05-31</th>\n",
       "      <td>294.200012</td>\n",
       "      <td>51397345</td>\n",
       "      <td>294.115621</td>\n",
       "      <td>295.950012</td>\n",
       "    </tr>\n",
       "    <tr>\n",
       "      <th>2024-06-03</th>\n",
       "      <td>323.000000</td>\n",
       "      <td>67256146</td>\n",
       "      <td>323.032124</td>\n",
       "      <td>318.649994</td>\n",
       "    </tr>\n",
       "    <tr>\n",
       "      <th>2024-06-04</th>\n",
       "      <td>312.000000</td>\n",
       "      <td>268052657</td>\n",
       "      <td>314.447998</td>\n",
       "      <td>255.550003</td>\n",
       "    </tr>\n",
       "    <tr>\n",
       "      <th>2024-06-05</th>\n",
       "      <td>264.500000</td>\n",
       "      <td>193487058</td>\n",
       "      <td>266.180032</td>\n",
       "      <td>260.350006</td>\n",
       "    </tr>\n",
       "    <tr>\n",
       "      <th>2024-06-06</th>\n",
       "      <td>267.000000</td>\n",
       "      <td>84661924</td>\n",
       "      <td>267.379375</td>\n",
       "      <td>270.850006</td>\n",
       "    </tr>\n",
       "  </tbody>\n",
       "</table>\n",
       "<p>106 rows × 4 columns</p>\n",
       "</div>"
      ],
      "text/plain": [
       "                  Open     Volume  Predicted Close price  Actual Close price\n",
       "Date                                                                        \n",
       "2023-12-29  182.949997   19305150             182.762457          184.199997\n",
       "2024-01-01  184.800003   18008785             184.592412          184.949997\n",
       "2024-01-02  186.000000   22790965             185.846285          182.149994\n",
       "2024-01-03  182.350006   18738690             182.157231          182.350006\n",
       "2024-01-04  182.500000   25403124             182.386118          186.899994\n",
       "...                ...        ...                    ...                 ...\n",
       "2024-05-31  294.200012   51397345             294.115621          295.950012\n",
       "2024-06-03  323.000000   67256146             323.032124          318.649994\n",
       "2024-06-04  312.000000  268052657             314.447998          255.550003\n",
       "2024-06-05  264.500000  193487058             266.180032          260.350006\n",
       "2024-06-06  267.000000   84661924             267.379375          270.850006\n",
       "\n",
       "[106 rows x 4 columns]"
      ]
     },
     "execution_count": 69,
     "metadata": {},
     "output_type": "execute_result"
    }
   ],
   "source": [
    "\n",
    "Output['Predicted Close price'] = pred \n",
    "Output['Actual Close price'] = y_test\n",
    "Output"
   ]
  },
  {
   "cell_type": "code",
   "execution_count": 70,
   "id": "347fb451-9320-4de4-83e9-09bed69835b7",
   "metadata": {},
   "outputs": [
    {
     "data": {
      "text/html": [
       "<div>\n",
       "<style scoped>\n",
       "    .dataframe tbody tr th:only-of-type {\n",
       "        vertical-align: middle;\n",
       "    }\n",
       "\n",
       "    .dataframe tbody tr th {\n",
       "        vertical-align: top;\n",
       "    }\n",
       "\n",
       "    .dataframe thead th {\n",
       "        text-align: right;\n",
       "    }\n",
       "</style>\n",
       "<table border=\"1\" class=\"dataframe\">\n",
       "  <thead>\n",
       "    <tr style=\"text-align: right;\">\n",
       "      <th></th>\n",
       "      <th>Open</th>\n",
       "      <th>Volume</th>\n",
       "    </tr>\n",
       "    <tr>\n",
       "      <th>Date</th>\n",
       "      <th></th>\n",
       "      <th></th>\n",
       "    </tr>\n",
       "  </thead>\n",
       "  <tbody>\n",
       "    <tr>\n",
       "      <th>2023-12-29</th>\n",
       "      <td>182.949997</td>\n",
       "      <td>19305150</td>\n",
       "    </tr>\n",
       "    <tr>\n",
       "      <th>2024-01-01</th>\n",
       "      <td>184.800003</td>\n",
       "      <td>18008785</td>\n",
       "    </tr>\n",
       "    <tr>\n",
       "      <th>2024-01-02</th>\n",
       "      <td>186.000000</td>\n",
       "      <td>22790965</td>\n",
       "    </tr>\n",
       "    <tr>\n",
       "      <th>2024-01-03</th>\n",
       "      <td>182.350006</td>\n",
       "      <td>18738690</td>\n",
       "    </tr>\n",
       "    <tr>\n",
       "      <th>2024-01-04</th>\n",
       "      <td>182.500000</td>\n",
       "      <td>25403124</td>\n",
       "    </tr>\n",
       "    <tr>\n",
       "      <th>...</th>\n",
       "      <td>...</td>\n",
       "      <td>...</td>\n",
       "    </tr>\n",
       "    <tr>\n",
       "      <th>2024-05-31</th>\n",
       "      <td>294.200012</td>\n",
       "      <td>51397345</td>\n",
       "    </tr>\n",
       "    <tr>\n",
       "      <th>2024-06-03</th>\n",
       "      <td>323.000000</td>\n",
       "      <td>67256146</td>\n",
       "    </tr>\n",
       "    <tr>\n",
       "      <th>2024-06-04</th>\n",
       "      <td>312.000000</td>\n",
       "      <td>268052657</td>\n",
       "    </tr>\n",
       "    <tr>\n",
       "      <th>2024-06-05</th>\n",
       "      <td>264.500000</td>\n",
       "      <td>193487058</td>\n",
       "    </tr>\n",
       "    <tr>\n",
       "      <th>2024-06-06</th>\n",
       "      <td>267.000000</td>\n",
       "      <td>84661924</td>\n",
       "    </tr>\n",
       "  </tbody>\n",
       "</table>\n",
       "<p>106 rows × 2 columns</p>\n",
       "</div>"
      ],
      "text/plain": [
       "                  Open     Volume\n",
       "Date                             \n",
       "2023-12-29  182.949997   19305150\n",
       "2024-01-01  184.800003   18008785\n",
       "2024-01-02  186.000000   22790965\n",
       "2024-01-03  182.350006   18738690\n",
       "2024-01-04  182.500000   25403124\n",
       "...                ...        ...\n",
       "2024-05-31  294.200012   51397345\n",
       "2024-06-03  323.000000   67256146\n",
       "2024-06-04  312.000000  268052657\n",
       "2024-06-05  264.500000  193487058\n",
       "2024-06-06  267.000000   84661924\n",
       "\n",
       "[106 rows x 2 columns]"
      ]
     },
     "execution_count": 70,
     "metadata": {},
     "output_type": "execute_result"
    }
   ],
   "source": [
    "X_test"
   ]
  },
  {
   "cell_type": "code",
   "execution_count": 71,
   "id": "ba157064-6b1a-423f-8689-b3557d42423e",
   "metadata": {},
   "outputs": [
    {
     "data": {
      "text/plain": [
       "3.7376249989531636"
      ]
     },
     "execution_count": 71,
     "metadata": {},
     "output_type": "execute_result"
    }
   ],
   "source": [
    "from sklearn.metrics import mean_absolute_error, mean_absolute_percentage_error, mean_squared_error\n",
    "mean_absolute_error(y_test, pred)"
   ]
  },
  {
   "cell_type": "code",
   "execution_count": null,
   "id": "0c759d4b-dd22-48b9-a7b2-c009db1cd954",
   "metadata": {},
   "outputs": [],
   "source": []
  }
 ],
 "metadata": {
  "kernelspec": {
   "display_name": "Python 3 (ipykernel)",
   "language": "python",
   "name": "python3"
  },
  "language_info": {
   "codemirror_mode": {
    "name": "ipython",
    "version": 3
   },
   "file_extension": ".py",
   "mimetype": "text/x-python",
   "name": "python",
   "nbconvert_exporter": "python",
   "pygments_lexer": "ipython3",
   "version": "3.9.13"
  }
 },
 "nbformat": 4,
 "nbformat_minor": 5
}
